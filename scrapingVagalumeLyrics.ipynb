{
  "nbformat": 4,
  "nbformat_minor": 0,
  "metadata": {
    "colab": {
      "provenance": [],
      "authorship_tag": "ABX9TyN19dZBXR4hXAblFAiWi9pD"
    },
    "kernelspec": {
      "name": "python3",
      "display_name": "Python 3"
    },
    "language_info": {
      "name": "python"
    }
  },
  "cells": [
    {
      "cell_type": "code",
      "source": [
        "from google.colab import drive\n",
        "drive.mount('/content/drive')"
      ],
      "metadata": {
        "id": "cr5-KG4P1u4e"
      },
      "execution_count": null,
      "outputs": []
    },
    {
      "cell_type": "code",
      "source": [
        "!pip install beautifulsoup4\n",
        "!pip install pandas\n",
        "!pip install nltk"
      ],
      "metadata": {
        "id": "OLtV-e23B5m6"
      },
      "execution_count": null,
      "outputs": []
    },
    {
      "cell_type": "code",
      "source": [
        "from bs4 import BeautifulSoup\n",
        "from collections import defaultdict\n",
        "import requests\n",
        "import re\n",
        "import pandas as pd\n",
        "import spacy\n",
        "import matplotlib.pyplot as plt\n",
        "import seaborn as sns\n"
      ],
      "metadata": {
        "id": "SYUua6QvD1IJ"
      },
      "execution_count": null,
      "outputs": []
    },
    {
      "cell_type": "code",
      "source": [
        "url = 'https://www.vagalume.com.br/ariana-grande/'\n",
        "data = requests.get(url).text"
      ],
      "metadata": {
        "id": "CU0Q0Cd8D_36"
      },
      "execution_count": null,
      "outputs": []
    },
    {
      "cell_type": "code",
      "source": [
        "soup = BeautifulSoup(data, 'html.parser')"
      ],
      "metadata": {
        "id": "YCj1HnqAEDCE"
      },
      "execution_count": null,
      "outputs": []
    },
    {
      "cell_type": "code",
      "source": [
        "songs = soup.find(id=\"alfabetMusicList\")\n",
        "urls = []\n",
        "song_names = []\n",
        "\n",
        "for song in songs.find_all(class_=\"nameMusic\"):\n",
        "  song_names.append(song.text)\n",
        "  urls.append('https://www.vagalume.com.br/' + song['href'])\n",
        "\n",
        "print(urls)"
      ],
      "metadata": {
        "id": "zGd-TuYOjTNA"
      },
      "execution_count": null,
      "outputs": []
    },
    {
      "cell_type": "code",
      "source": [
        "song_lyrics = {}\n",
        "\n",
        "for url_songs, song_name in zip(urls, song_names):\n",
        "  data_songs = requests.get(url_songs).text\n",
        "  soup_songs = BeautifulSoup(data_songs, 'html.parser')\n",
        "\n",
        "  for br in soup_songs.select(\"br\"):\n",
        "      br.replace_with(\" \")\n",
        "\n",
        "  song_lyrics[song_name] = soup_songs.find(id=\"lyrics\").text.lower().replace(\",\",\"\").replace(\"  \", \" \")"
      ],
      "metadata": {
        "id": "sL9nC-oAmStm"
      },
      "execution_count": null,
      "outputs": []
    },
    {
      "cell_type": "code",
      "source": [
        "df = pd.DataFrame({'Song':song_lyrics.keys(),'Lyrics':song_lyrics.values()})\n",
        "df.to_csv(\"/content/drive/MyDrive/all_songs_up.csv\", sep ='\\t')"
      ],
      "metadata": {
        "id": "I4lJ-51KyzAB"
      },
      "execution_count": null,
      "outputs": []
    },
    {
      "cell_type": "code",
      "source": [
        "stop_words = set(['i', 'me', 'my', 'myself', 'we', 'our', 'ours', 'ourselves', 'you', \"i'm\", \"you're\", \"you've\", \"you'll\", \"you'd\", 'your', 'yours', 'yourself', 'yourselves', 'he', 'him', 'his', 'himself', 'she', \"she's\", 'her', 'hers', 'herself', 'it', \"it's\", 'its', 'itself', 'they', 'them', 'their', 'theirs', 'themselves', 'what', 'which', 'who', 'whom', 'this', 'that', \"that'll\", 'these', 'those', 'am', 'is', 'are', 'was', 'were', 'be', 'been', 'being', 'have', 'has', 'had', 'having', 'do', 'does', 'did', 'doing', 'a', 'an', 'the', 'and', 'but', 'if', 'or', 'because', 'as', 'until', 'while', 'of', 'at', 'by', 'for', 'with', 'about', 'against', 'between', 'into', 'through', 'during', 'before', 'after', 'above', 'below', 'to', 'from', 'up', 'down', 'in', 'out', 'on', 'off', 'over', 'under', 'again', 'further', 'then', 'once', 'here', 'there', 'when', 'where', 'why', 'how', 'all', 'any', 'both', 'each', 'few', 'more', 'most', 'other', 'some', 'such', 'no', 'nor', 'not', 'only', 'own', 'same', 'so', 'than', 'too', 'very', 's', 't', 'can', 'will', 'just', 'don', \"don't\", 'should', \"should've\", 'now', 'd', 'll', 'm', 'o', 're', 've', 'y', 'ain', 'aren', \"aren't\", 'couldn', \"couldn't\", 'didn', \"didn't\", 'doesn', \"doesn't\", 'hadn', \"hadn't\", 'hasn', \"hasn't\", 'haven', \"haven't\", 'isn', \"isn't\", 'ma', 'mightn', \"mightn't\", 'mustn', \"mustn't\", 'needn', \"needn't\", 'shan', \"shan't\", 'shouldn', \"shouldn't\", 'wasn', \"wasn't\", 'weren', \"weren't\", 'won', \"won't\", 'wouldn', \"wouldn't\", \"'m\", \",\", \".\", \"n't\", \"'ll\", \"?\", \"wo\", \"la\", \"'s\" \"'d\", \"n't\", \"...\", '``', \"'ve\", \"'\", \"might\", \"''\", '(', ')', \"'s\", \"'d\", 'mm-mm', 'hmm', 'ah', 'ah',\"!\", \"oh\", \":\", \"'re\",\"aye\", \"na\", \"'d\", \"ay\", \"yo\", 'mm','hey', 'woo', \"ai\", \"gon\", \"get\", \"got\", \"-\"])"
      ],
      "metadata": {
        "id": "uw99fe-tINS2"
      },
      "execution_count": null,
      "outputs": []
    },
    {
      "cell_type": "code",
      "source": [
        "nlp = spacy.load(\"en_core_web_sm\")\n",
        "frequency = defaultdict(int)\n",
        "\n",
        "for song in song_lyrics.values():\n",
        "  for word in nlp(song):\n",
        "    if word.text not in stop_words:\n",
        "      frequency[word.lemma_] += 1"
      ],
      "metadata": {
        "id": "gbA07azPTWut"
      },
      "execution_count": null,
      "outputs": []
    },
    {
      "cell_type": "code",
      "source": [
        "df_freq = pd.DataFrame({'Word':frequency.keys(), 'Frequency':frequency.values()}).sort_values(by=['Frequency'],ascending=False, ignore_index=True)\n",
        "df_freq_subset = df_freq.head(10)\n",
        "\n",
        "fig, ax = plt.subplots(figsize=(10, 5), layout='constrained')\n",
        "bars = ax.barh(df_freq_subset.Word, df_freq_subset.Frequency, color='#6892ff')\n",
        "ax.bar_label(bars)\n",
        "ax.invert_yaxis()\n",
        "#ax.set_xlabel('Frequency')\n",
        "#ax.set_ylabel('Word')\n",
        "ax.set_xticks([])\n",
        "ax.set_facecolor('white')\n",
        "ax.set_title(\"Most frequent words in Ariana Grande's songs\", fontsize = 15)\n",
        "fig.savefig('/content/drive/MyDrive/testmdss.png', facecolor='white', bbox_inches='tight', dpi=300)\n",
        "\n"
      ],
      "metadata": {
        "colab": {
          "base_uri": "https://localhost:8080/",
          "height": 426
        },
        "id": "XzpuIvUfMTBM",
        "outputId": "b4d4956c-d90e-480e-bbd9-a4b48b650629"
      },
      "execution_count": 538,
      "outputs": [
        {
          "output_type": "display_data",
          "data": {
            "text/plain": [
              "<Figure size 800x400 with 1 Axes>"
            ],
            "image/png": "[encoded data removed]"
          },
          "metadata": {}
        }
      ]
    }
  ]
}