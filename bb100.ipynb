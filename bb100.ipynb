{
  "cells": [
    {
      "cell_type": "code",
      "execution_count": null,
      "metadata": {
        "id": "-7D0nxQ7qgUK"
      },
      "outputs": [],
      "source": [
        "from google.colab import drive\n",
        "drive.mount('/content/drive')"
      ]
    },
    {
      "cell_type": "code",
      "execution_count": null,
      "metadata": {
        "id": "8xBnUZDVqv_S"
      },
      "outputs": [],
      "source": [
        "!pip install pandas"
      ]
    },
    {
      "cell_type": "code",
      "execution_count": null,
      "metadata": {
        "id": "2PRHjM3NrBsf"
      },
      "outputs": [],
      "source": [
        "import pandas as pd\n",
        "import re\n",
        "from collections import defaultdict"
      ]
    },
    {
      "cell_type": "code",
      "execution_count": null,
      "metadata": {
        "id": "E0mry6UKR9w0"
      },
      "outputs": [],
      "source": [
        "arq = open(\"/content/drive/MyDrive/bb100/charts.csv\", \"r\")\n",
        "linhas = arq.readlines()\n",
        "songs = {}\n",
        "\n",
        "# data structure -> date,rank,song,artist,last-week,peak-rank,weeks-on-board\n",
        "\n",
        "\n",
        "# entradas do artista no chart hot 100\n",
        "for linha in linhas:\n",
        "  if re.search(\"Frank Ocean\", linha):\n",
        "    linha = re.split(r',(?!\\s)', linha)\n",
        "    if songs.get(linha[2]) == None:\n",
        "      songs[linha[2].replace('\"', \"\")] = linha[-2]\n",
        "\n",
        "\n",
        "data = {'Song': songs.keys(), 'Highest Peak':songs.values()}\n",
        "df = pd.DataFrame(data)\n",
        "df['Highest Peak'] = pd.to_numeric(df['Highest Peak'])\n",
        "df.sort_values(by=['Highest Peak'], inplace=True, ignore_index=True)\n",
        "\n",
        "#df.to_csv(\"/content/drive/MyDrive/bb100/ok.csv\")\n",
        "\n",
        "# músicas que alcançaram o topo do chart (#1)\n",
        "artistTop = defaultdict(set)\n",
        "topSongs = set()\n",
        "for linha in linhas:\n",
        "  linha = re.split(r',(?!\\s)', linha)\n",
        "  if linha[5] == \"1\":\n",
        "    artistTop[linha[3]].add(linha[2])\n"
      ]
    }
  ],
  "metadata": {
    "colab": {
      "provenance": [],
      "authorship_tag": "ABX9TyMLVdlSR4ngLpG9DzfSrGnb"
    },
    "kernelspec": {
      "display_name": "Python 3",
      "name": "python3"
    },
    "language_info": {
      "name": "python"
    }
  },
  "nbformat": 4,
  "nbformat_minor": 0
}